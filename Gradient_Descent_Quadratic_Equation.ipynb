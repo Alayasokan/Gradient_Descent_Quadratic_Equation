{
  "metadata": {
    "kernelspec": {
      "name": "python",
      "display_name": "Python (Pyodide)",
      "language": "python"
    },
    "language_info": {
      "codemirror_mode": {
        "name": "python",
        "version": 3
      },
      "file_extension": ".py",
      "mimetype": "text/x-python",
      "name": "python",
      "nbconvert_exporter": "python",
      "pygments_lexer": "ipython3",
      "version": "3.8"
    }
  },
  "nbformat_minor": 4,
  "nbformat": 4,
  "cells": [
    {
      "cell_type": "code",
      "source": "import numpy as np",
      "metadata": {
        "trusted": true
      },
      "outputs": [],
      "execution_count": 1
    },
    {
      "cell_type": "code",
      "source": "def quadratic_function(x, a, b, c):\n    return a * x**2 + b * x + c",
      "metadata": {
        "trusted": true
      },
      "outputs": [],
      "execution_count": 2
    },
    {
      "cell_type": "code",
      "source": "def derivative_quadratic_function(x, a, b):\n    return 2 * a * x + b",
      "metadata": {
        "trusted": true
      },
      "outputs": [],
      "execution_count": 3
    },
    {
      "cell_type": "code",
      "source": "def gradient_descent(starting_point, learning_rate, iterations, a, b, c):\n    current_point = starting_point\n    for i in range(iterations):\n        gradient = derivative_quadratic_function(current_point, a, b)\n        current_point = current_point - learning_rate + gradient\n        return current_point",
      "metadata": {
        "trusted": true
      },
      "outputs": [],
      "execution_count": 24
    },
    {
      "cell_type": "code",
      "source": "        a = 1\n        b = -3\n        c = 2",
      "metadata": {
        "trusted": true
      },
      "outputs": [],
      "execution_count": 37
    },
    {
      "cell_type": "code",
      "source": "        starting_point = 0.0",
      "metadata": {
        "trusted": true
      },
      "outputs": [],
      "execution_count": 28
    },
    {
      "cell_type": "code",
      "source": "        learning_rate = 0.1\n        iterations = 1000",
      "metadata": {
        "trusted": true
      },
      "outputs": [],
      "execution_count": 29
    },
    {
      "cell_type": "code",
      "source": "root = gradient_descent(starting_point, learning_rate, iterations, a, b, c)\nprint(\"Root of the quadratic equation (using Gradient Descent):\", root)",
      "metadata": {
        "trusted": true
      },
      "outputs": [
        {
          "name": "stdout",
          "text": "Root of the quadratic equation (using Gradient Descent): -3.1\n",
          "output_type": "stream"
        }
      ],
      "execution_count": 38
    }
  ]
}